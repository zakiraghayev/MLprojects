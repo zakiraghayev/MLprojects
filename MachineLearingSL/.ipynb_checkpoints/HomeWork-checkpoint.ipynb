{
 "cells": [
  {
   "cell_type": "code",
   "execution_count": 18,
   "id": "9a33ac16",
   "metadata": {},
   "outputs": [],
   "source": [
    "import pandas as pd\n",
    "\n",
    "from sklearn.svm import SVC\n",
    "from sklearn.linear_model import Perceptron\n",
    "from sklearn.naive_bayes import GaussianNB \n",
    "from sklearn.neighbors import KNeighborsClassifier\n",
    "from sklearn.model_selection import train_test_split\n"
   ]
  },
  {
   "cell_type": "code",
   "execution_count": 124,
   "id": "68b84909",
   "metadata": {},
   "outputs": [
    {
     "data": {
      "text/html": [
       "<div>\n",
       "<style scoped>\n",
       "    .dataframe tbody tr th:only-of-type {\n",
       "        vertical-align: middle;\n",
       "    }\n",
       "\n",
       "    .dataframe tbody tr th {\n",
       "        vertical-align: top;\n",
       "    }\n",
       "\n",
       "    .dataframe thead th {\n",
       "        text-align: right;\n",
       "    }\n",
       "</style>\n",
       "<table border=\"1\" class=\"dataframe\">\n",
       "  <thead>\n",
       "    <tr style=\"text-align: right;\">\n",
       "      <th></th>\n",
       "      <th>age</th>\n",
       "      <th>workclass</th>\n",
       "      <th>fnlwgt</th>\n",
       "      <th>education</th>\n",
       "      <th>education-num</th>\n",
       "      <th>marital-status</th>\n",
       "      <th>occupation</th>\n",
       "      <th>relationship</th>\n",
       "      <th>race</th>\n",
       "      <th>sex</th>\n",
       "      <th>capital-gain</th>\n",
       "      <th>capital-loss</th>\n",
       "      <th>hours-per-week</th>\n",
       "      <th>native-country</th>\n",
       "      <th>income</th>\n",
       "    </tr>\n",
       "  </thead>\n",
       "  <tbody>\n",
       "    <tr>\n",
       "      <th>0</th>\n",
       "      <td>39</td>\n",
       "      <td>State-gov</td>\n",
       "      <td>77516</td>\n",
       "      <td>Bachelors</td>\n",
       "      <td>13</td>\n",
       "      <td>Never-married</td>\n",
       "      <td>Adm-clerical</td>\n",
       "      <td>Not-in-family</td>\n",
       "      <td>White</td>\n",
       "      <td>Male</td>\n",
       "      <td>2174</td>\n",
       "      <td>0</td>\n",
       "      <td>40</td>\n",
       "      <td>United-States</td>\n",
       "      <td>&lt;=50K</td>\n",
       "    </tr>\n",
       "    <tr>\n",
       "      <th>1</th>\n",
       "      <td>50</td>\n",
       "      <td>Self-emp-not-inc</td>\n",
       "      <td>83311</td>\n",
       "      <td>Bachelors</td>\n",
       "      <td>13</td>\n",
       "      <td>Married-civ-spouse</td>\n",
       "      <td>Exec-managerial</td>\n",
       "      <td>Husband</td>\n",
       "      <td>White</td>\n",
       "      <td>Male</td>\n",
       "      <td>0</td>\n",
       "      <td>0</td>\n",
       "      <td>13</td>\n",
       "      <td>United-States</td>\n",
       "      <td>&lt;=50K</td>\n",
       "    </tr>\n",
       "    <tr>\n",
       "      <th>2</th>\n",
       "      <td>38</td>\n",
       "      <td>Private</td>\n",
       "      <td>215646</td>\n",
       "      <td>HS-grad</td>\n",
       "      <td>9</td>\n",
       "      <td>Divorced</td>\n",
       "      <td>Handlers-cleaners</td>\n",
       "      <td>Not-in-family</td>\n",
       "      <td>White</td>\n",
       "      <td>Male</td>\n",
       "      <td>0</td>\n",
       "      <td>0</td>\n",
       "      <td>40</td>\n",
       "      <td>United-States</td>\n",
       "      <td>&lt;=50K</td>\n",
       "    </tr>\n",
       "    <tr>\n",
       "      <th>3</th>\n",
       "      <td>53</td>\n",
       "      <td>Private</td>\n",
       "      <td>234721</td>\n",
       "      <td>11th</td>\n",
       "      <td>7</td>\n",
       "      <td>Married-civ-spouse</td>\n",
       "      <td>Handlers-cleaners</td>\n",
       "      <td>Husband</td>\n",
       "      <td>Black</td>\n",
       "      <td>Male</td>\n",
       "      <td>0</td>\n",
       "      <td>0</td>\n",
       "      <td>40</td>\n",
       "      <td>United-States</td>\n",
       "      <td>&lt;=50K</td>\n",
       "    </tr>\n",
       "    <tr>\n",
       "      <th>4</th>\n",
       "      <td>28</td>\n",
       "      <td>Private</td>\n",
       "      <td>338409</td>\n",
       "      <td>Bachelors</td>\n",
       "      <td>13</td>\n",
       "      <td>Married-civ-spouse</td>\n",
       "      <td>Prof-specialty</td>\n",
       "      <td>Wife</td>\n",
       "      <td>Black</td>\n",
       "      <td>Female</td>\n",
       "      <td>0</td>\n",
       "      <td>0</td>\n",
       "      <td>40</td>\n",
       "      <td>Cuba</td>\n",
       "      <td>&lt;=50K</td>\n",
       "    </tr>\n",
       "  </tbody>\n",
       "</table>\n",
       "</div>"
      ],
      "text/plain": [
       "   age          workclass   fnlwgt   education   education-num  \\\n",
       "0   39          State-gov    77516   Bachelors              13   \n",
       "1   50   Self-emp-not-inc    83311   Bachelors              13   \n",
       "2   38            Private   215646     HS-grad               9   \n",
       "3   53            Private   234721        11th               7   \n",
       "4   28            Private   338409   Bachelors              13   \n",
       "\n",
       "        marital-status          occupation    relationship    race      sex  \\\n",
       "0        Never-married        Adm-clerical   Not-in-family   White     Male   \n",
       "1   Married-civ-spouse     Exec-managerial         Husband   White     Male   \n",
       "2             Divorced   Handlers-cleaners   Not-in-family   White     Male   \n",
       "3   Married-civ-spouse   Handlers-cleaners         Husband   Black     Male   \n",
       "4   Married-civ-spouse      Prof-specialty            Wife   Black   Female   \n",
       "\n",
       "    capital-gain   capital-loss   hours-per-week  native-country  income  \n",
       "0           2174              0               40   United-States   <=50K  \n",
       "1              0              0               13   United-States   <=50K  \n",
       "2              0              0               40   United-States   <=50K  \n",
       "3              0              0               40   United-States   <=50K  \n",
       "4              0              0               40            Cuba   <=50K  "
      ]
     },
     "execution_count": 124,
     "metadata": {},
     "output_type": "execute_result"
    }
   ],
   "source": [
    "# Data \n",
    "df = pd.read_csv('../income_evaluation.csv')\n",
    "df.head()\n"
   ]
  },
  {
   "cell_type": "code",
   "execution_count": 125,
   "id": "9bf35bc9",
   "metadata": {},
   "outputs": [
    {
     "name": "stdout",
     "output_type": "stream",
     "text": [
      " workclass\n",
      " education\n",
      " marital-status\n",
      " occupation\n",
      " relationship\n",
      " race\n",
      " native-country\n",
      " sex\n",
      " income\n"
     ]
    }
   ],
   "source": [
    "# Data preperations\n",
    "del df[' fnlwgt'] # removing unnecessary data\n",
    "\n",
    "# converting string data to integers to use in prediction\n",
    "\n",
    "wcl = list(df[\" workclass\"].unique())\n",
    "edu = list(df[' education'].unique())\n",
    "ms = list(df[' marital-status'].unique())\n",
    "ocup = list(df[' occupation'].unique())\n",
    "rel = list(df[' relationship'].unique())\n",
    "race = list(df[' race'].unique())\n",
    "country = list(df[' native-country'].unique())\n",
    "sex = list(df[' sex'].unique())\n",
    "income =list(df[' income'].unique())\n",
    "# \n",
    "df.columns\n",
    "labels = {\n",
    "            ' workclass':wcl, ' education':edu, ' marital-status':ms, \n",
    "            ' occupation':ocup, ' relationship':rel,\n",
    "            ' race':race, ' native-country':country, ' sex': sex, ' income':income\n",
    "        }\n",
    "\n",
    "for label in labels:\n",
    "    print(label)\n",
    "    d = dict(zip( labels[label], range(0, len(labels[label])) ))\n",
    "    df[label] =df[label].map(d, na_action='ignore')\n"
   ]
  },
  {
   "cell_type": "code",
   "execution_count": 126,
   "id": "ead01090",
   "metadata": {},
   "outputs": [],
   "source": [
    "# Data Split\n",
    "\n",
    "Y = df[' income']\n",
    "df.drop([' income'], axis=1)\n",
    "X_training, x_test,Y_training, y_test = train_test_split(df, Y, test_size=0.7)"
   ]
  },
  {
   "cell_type": "code",
   "execution_count": 127,
   "id": "2a7a75f3",
   "metadata": {},
   "outputs": [
    {
     "name": "stdout",
     "output_type": "stream",
     "text": [
      "Correct 21130\n",
      "Incorrect 1663\n",
      "Total 22793\n",
      "Accuracy 92.7\n"
     ]
    }
   ],
   "source": [
    "model = Perceptron()\n",
    "\n",
    "model.fit(X_training, Y_training)\n",
    "\n",
    "predictions = model.predict(x_test)\n",
    "\n",
    "correct = (y_test == predictions).sum()\n",
    "incorrect = (y_test != predictions).sum()\n",
    "total = len(predictions)\n",
    "\n",
    "print(\"Correct\", correct)\n",
    "print(\"Incorrect\", incorrect)\n",
    "print(\"Total\", total)\n",
    "print(\"Accuracy\", round(correct/total*100, 2))"
   ]
  },
  {
   "cell_type": "code",
   "execution_count": 128,
   "id": "19e4c5f1",
   "metadata": {},
   "outputs": [
    {
     "name": "stdout",
     "output_type": "stream",
     "text": [
      "Correct 18234\n",
      "Incorrect 4559\n",
      "Total 22793\n",
      "Accuracy 80.0\n"
     ]
    }
   ],
   "source": [
    "# SVC Model\n",
    "model = SVC()\n",
    "\n",
    "model.fit(X_training, Y_training)\n",
    "\n",
    "predictions = model.predict(x_test)\n",
    "\n",
    "correct = (y_test == predictions).sum()\n",
    "incorrect = (y_test != predictions).sum()\n",
    "total = len(predictions)\n",
    "\n",
    "print(\"Correct\", correct)\n",
    "print(\"Incorrect\", incorrect)\n",
    "print(\"Total\", total)\n",
    "print(\"Accuracy\", round(correct/total*100, 2))"
   ]
  },
  {
   "cell_type": "code",
   "execution_count": 129,
   "id": "82ecb85f",
   "metadata": {},
   "outputs": [
    {
     "name": "stdout",
     "output_type": "stream",
     "text": [
      "Correct 22365\n",
      "Incorrect 428\n",
      "Total 22793\n",
      "Accuracy 98.12\n"
     ]
    }
   ],
   "source": [
    "# GaussianNB model\n",
    "model = GaussianNB()\n",
    "\n",
    "model.fit(X_training, Y_training)\n",
    "\n",
    "predictions = model.predict(x_test)\n",
    "\n",
    "correct = (y_test == predictions).sum()\n",
    "incorrect = (y_test != predictions).sum()\n",
    "total = len(predictions)\n",
    "\n",
    "print(\"Correct\", correct)\n",
    "print(\"Incorrect\", incorrect)\n",
    "print(\"Total\", total)\n",
    "print(\"Accuracy\", round(correct/total*100, 2))"
   ]
  },
  {
   "cell_type": "code",
   "execution_count": 130,
   "id": "6288cbb0",
   "metadata": {},
   "outputs": [
    {
     "name": "stdout",
     "output_type": "stream",
     "text": [
      "Correct 19554\n",
      "Incorrect 3239\n",
      "Total 22793\n",
      "Accuracy 85.79\n"
     ]
    }
   ],
   "source": [
    "model = KNeighborsClassifier()\n",
    "\n",
    "model.fit(X_training, Y_training)\n",
    "\n",
    "predictions = model.predict(x_test)\n",
    "\n",
    "correct = (y_test == predictions).sum()\n",
    "incorrect = (y_test != predictions).sum()\n",
    "total = len(predictions)\n",
    "\n",
    "print(\"Correct\", correct)\n",
    "print(\"Incorrect\", incorrect)\n",
    "print(\"Total\", total)\n",
    "print(\"Accuracy\", round(correct/total*100, 2))"
   ]
  },
  {
   "cell_type": "code",
   "execution_count": null,
   "id": "4a817f20",
   "metadata": {},
   "outputs": [],
   "source": []
  }
 ],
 "metadata": {
  "kernelspec": {
   "display_name": "Python 3",
   "language": "python",
   "name": "python3"
  },
  "language_info": {
   "codemirror_mode": {
    "name": "ipython",
    "version": 3
   },
   "file_extension": ".py",
   "mimetype": "text/x-python",
   "name": "python",
   "nbconvert_exporter": "python",
   "pygments_lexer": "ipython3",
   "version": "3.8.8"
  }
 },
 "nbformat": 4,
 "nbformat_minor": 5
}
