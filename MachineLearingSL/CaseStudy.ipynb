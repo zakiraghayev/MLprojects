{
 "cells": [
  {
   "cell_type": "code",
   "execution_count": 17,
   "id": "264bc1d8",
   "metadata": {},
   "outputs": [],
   "source": [
    "import pandas as pd\n",
    "from sklearn.svm import SVC, LinearSVC\n",
    "from sklearn.tree import DecisionTreeClassifier\n",
    "from sklearn.ensemble import RandomForestClassifier \n",
    "from sklearn.linear_model import LogisticRegression \n",
    "from sklearn.naive_bayes import GaussianNB \n",
    "from sklearn.neighbors import KNeighborsClassifier\n",
    "from sklearn.model_selection import train_test_split\n",
    "\n"
   ]
  },
  {
   "cell_type": "code",
   "execution_count": 18,
   "id": "52323de0",
   "metadata": {},
   "outputs": [
    {
     "data": {
      "text/html": [
       "<div>\n",
       "<style scoped>\n",
       "    .dataframe tbody tr th:only-of-type {\n",
       "        vertical-align: middle;\n",
       "    }\n",
       "\n",
       "    .dataframe tbody tr th {\n",
       "        vertical-align: top;\n",
       "    }\n",
       "\n",
       "    .dataframe thead th {\n",
       "        text-align: right;\n",
       "    }\n",
       "</style>\n",
       "<table border=\"1\" class=\"dataframe\">\n",
       "  <thead>\n",
       "    <tr style=\"text-align: right;\">\n",
       "      <th></th>\n",
       "      <th>age</th>\n",
       "      <th>sex</th>\n",
       "      <th>cp</th>\n",
       "      <th>trestbps</th>\n",
       "      <th>chol</th>\n",
       "      <th>fbs</th>\n",
       "      <th>restecg</th>\n",
       "      <th>thalach</th>\n",
       "      <th>exang</th>\n",
       "      <th>oldpeak</th>\n",
       "      <th>slope</th>\n",
       "      <th>ca</th>\n",
       "      <th>thal</th>\n",
       "      <th>target</th>\n",
       "    </tr>\n",
       "  </thead>\n",
       "  <tbody>\n",
       "    <tr>\n",
       "      <th>0</th>\n",
       "      <td>63</td>\n",
       "      <td>1</td>\n",
       "      <td>3</td>\n",
       "      <td>145</td>\n",
       "      <td>233</td>\n",
       "      <td>1</td>\n",
       "      <td>0</td>\n",
       "      <td>150</td>\n",
       "      <td>0</td>\n",
       "      <td>2.3</td>\n",
       "      <td>0</td>\n",
       "      <td>0</td>\n",
       "      <td>1</td>\n",
       "      <td>1</td>\n",
       "    </tr>\n",
       "    <tr>\n",
       "      <th>1</th>\n",
       "      <td>37</td>\n",
       "      <td>1</td>\n",
       "      <td>2</td>\n",
       "      <td>130</td>\n",
       "      <td>250</td>\n",
       "      <td>0</td>\n",
       "      <td>1</td>\n",
       "      <td>187</td>\n",
       "      <td>0</td>\n",
       "      <td>3.5</td>\n",
       "      <td>0</td>\n",
       "      <td>0</td>\n",
       "      <td>2</td>\n",
       "      <td>1</td>\n",
       "    </tr>\n",
       "    <tr>\n",
       "      <th>2</th>\n",
       "      <td>41</td>\n",
       "      <td>0</td>\n",
       "      <td>1</td>\n",
       "      <td>130</td>\n",
       "      <td>204</td>\n",
       "      <td>0</td>\n",
       "      <td>0</td>\n",
       "      <td>172</td>\n",
       "      <td>0</td>\n",
       "      <td>1.4</td>\n",
       "      <td>2</td>\n",
       "      <td>0</td>\n",
       "      <td>2</td>\n",
       "      <td>1</td>\n",
       "    </tr>\n",
       "    <tr>\n",
       "      <th>3</th>\n",
       "      <td>56</td>\n",
       "      <td>1</td>\n",
       "      <td>1</td>\n",
       "      <td>120</td>\n",
       "      <td>236</td>\n",
       "      <td>0</td>\n",
       "      <td>1</td>\n",
       "      <td>178</td>\n",
       "      <td>0</td>\n",
       "      <td>0.8</td>\n",
       "      <td>2</td>\n",
       "      <td>0</td>\n",
       "      <td>2</td>\n",
       "      <td>1</td>\n",
       "    </tr>\n",
       "    <tr>\n",
       "      <th>4</th>\n",
       "      <td>57</td>\n",
       "      <td>0</td>\n",
       "      <td>0</td>\n",
       "      <td>120</td>\n",
       "      <td>354</td>\n",
       "      <td>0</td>\n",
       "      <td>1</td>\n",
       "      <td>163</td>\n",
       "      <td>1</td>\n",
       "      <td>0.6</td>\n",
       "      <td>2</td>\n",
       "      <td>0</td>\n",
       "      <td>2</td>\n",
       "      <td>1</td>\n",
       "    </tr>\n",
       "  </tbody>\n",
       "</table>\n",
       "</div>"
      ],
      "text/plain": [
       "   age  sex  cp  trestbps  chol  fbs  restecg  thalach  exang  oldpeak  slope  \\\n",
       "0   63    1   3       145   233    1        0      150      0      2.3      0   \n",
       "1   37    1   2       130   250    0        1      187      0      3.5      0   \n",
       "2   41    0   1       130   204    0        0      172      0      1.4      2   \n",
       "3   56    1   1       120   236    0        1      178      0      0.8      2   \n",
       "4   57    0   0       120   354    0        1      163      1      0.6      2   \n",
       "\n",
       "   ca  thal  target  \n",
       "0   0     1       1  \n",
       "1   0     2       1  \n",
       "2   0     2       1  \n",
       "3   0     2       1  \n",
       "4   0     2       1  "
      ]
     },
     "execution_count": 18,
     "metadata": {},
     "output_type": "execute_result"
    }
   ],
   "source": [
    "# Data \n",
    "df = pd.read_csv('../heart.csv')\n",
    "df.head()"
   ]
  },
  {
   "cell_type": "code",
   "execution_count": 50,
   "id": "55ff7543",
   "metadata": {},
   "outputs": [],
   "source": [
    "# Data Preperation\n",
    "y=df['target']\n",
    "x = df.drop(['target'], axis=1)\n",
    "X_train, x_test, y_train, y_test = train_test_split(x,y, test_size=0.9)"
   ]
  },
  {
   "cell_type": "code",
   "execution_count": 133,
   "id": "45b011eb",
   "metadata": {},
   "outputs": [],
   "source": [
    "# Model SVC\n",
    "\n",
    "def svc_model(X_train, y_train,y_test):\n",
    "\n",
    "    svc = SVC()\n",
    "\n",
    "    svc.fit(X_train, y_train)\n",
    "\n",
    "    predictions = svc.predict(x_test)\n",
    "\n",
    "    correct = (y_test == predictions).sum()\n",
    "    incorrect = (y_test != predictions).sum()\n",
    "    total = len(predictions)\n",
    "\n",
    "#     print(\"Correct\", correct)\n",
    "#     print(\"Incorrect\", incorrect)\n",
    "#     print(\"Total\", total)\n",
    "#     print(\"Accuracy\", round(correct/total*100, 2))\n",
    "    \n",
    "    return round(correct/total*100, 2)"
   ]
  },
  {
   "cell_type": "code",
   "execution_count": 134,
   "id": "ea4e23d3",
   "metadata": {},
   "outputs": [],
   "source": [
    "# Model linear SVC\n",
    "def lsvc_model(X_train, y_train,y_test):\n",
    "    linear = LinearSVC()\n",
    "\n",
    "    linear.fit(X_train, y_train)\n",
    "\n",
    "    predictions = linear.predict(x_test)\n",
    "\n",
    "    correct = (y_test == predictions).sum()\n",
    "    incorrect = (y_test != predictions).sum()\n",
    "    total = len(predictions)\n",
    "\n",
    "#     print(\"Correct\", correct)\n",
    "#     print(\"Incorrect\", incorrect)\n",
    "#     print(\"Total\", total)\n",
    "#     print(\"Accuracy\", round(correct/total*100, 2))\n",
    "    \n",
    "    return round(correct/total*100, 2)"
   ]
  },
  {
   "cell_type": "code",
   "execution_count": 135,
   "id": "b640b8ba",
   "metadata": {},
   "outputs": [],
   "source": [
    "# Model Decision Tree Clasifiers\n",
    "def dtc_model(X_train, y_train,y_test):\n",
    "    dtc = DecisionTreeClassifier()\n",
    "\n",
    "    dtc.fit(X_train, y_train)\n",
    "\n",
    "    predictions = dtc.predict(x_test)\n",
    "\n",
    "    correct = (y_test == predictions).sum()\n",
    "    incorrect = (y_test != predictions).sum()\n",
    "    total = len(predictions)\n",
    "\n",
    "#     print(\"Correct\", correct)\n",
    "#     print(\"Incorrect\", incorrect)\n",
    "#     print(\"Total\", total)\n",
    "#     print(\"Accuracy\", round(correct/total*100, 2))\n",
    "    return round(correct/total*100, 2)"
   ]
  },
  {
   "cell_type": "code",
   "execution_count": 136,
   "id": "e29a1682",
   "metadata": {},
   "outputs": [],
   "source": [
    "# Model Random Forest Clasifiers\n",
    "def rfc_model(X_train, y_train,y_test):\n",
    "    rfc = RandomForestClassifier()\n",
    "\n",
    "    rfc.fit(X_train, y_train)\n",
    "\n",
    "    predictions = rfc.predict(x_test)\n",
    "\n",
    "    correct = (y_test == predictions).sum()\n",
    "    incorrect = (y_test != predictions).sum()\n",
    "    total = len(predictions)\n",
    "\n",
    "#     print(\"Correct\", correct)\n",
    "#     print(\"Incorrect\", incorrect)\n",
    "#     print(\"Total\", total)\n",
    "#     print(\"Accuracy\", round(correct/total*100, 2))\n",
    "    return round(correct/total*100, 2)"
   ]
  },
  {
   "cell_type": "code",
   "execution_count": 137,
   "id": "75df37c0",
   "metadata": {},
   "outputs": [],
   "source": [
    "# Model Logistic Regression\n",
    "def lr_model(X_train, y_train,y_test):\n",
    "    lr = LogisticRegression()\n",
    "\n",
    "    lr.fit(X_train, y_train)\n",
    "\n",
    "    predictions = lr.predict(x_test)\n",
    "\n",
    "    correct = (y_test == predictions).sum()\n",
    "    incorrect = (y_test != predictions).sum()\n",
    "    total = len(predictions)\n",
    "\n",
    "#     print(\"Correct\", correct)\n",
    "#     print(\"Incorrect\", incorrect)\n",
    "#     print(\"Total\", total)\n",
    "#     print(\"Accuracy\", round(correct/total*100, 2))\n",
    "    return round(correct/total*100, 2)"
   ]
  },
  {
   "cell_type": "code",
   "execution_count": 138,
   "id": "737e31cc",
   "metadata": {},
   "outputs": [],
   "source": [
    "# Model Naïve Bayes classifier\n",
    "def nmc_model(X_train, y_train,y_test):\n",
    "    nbc = GaussianNB()\n",
    "\n",
    "    nbc.fit(X_train, y_train)\n",
    "\n",
    "    predictions = nbc.predict(x_test)\n",
    "\n",
    "    correct = (y_test == predictions).sum()\n",
    "    incorrect = (y_test != predictions).sum()\n",
    "    total = len(predictions)\n",
    "\n",
    "#     print(\"Correct\", correct)\n",
    "#     print(\"Incorrect\", incorrect)\n",
    "#     print(\"Total\", total)\n",
    "#     print(\"Accuracy\", round(correct/total*100, 2))\n",
    "    return round(correct/total*100, 2)"
   ]
  },
  {
   "cell_type": "code",
   "execution_count": 139,
   "id": "7549641a",
   "metadata": {},
   "outputs": [],
   "source": [
    "# Model Naïve Bayes classifier\n",
    "def nbc_model(X_train, y_train,y_test):\n",
    "    knn = KNeighborsClassifier()\n",
    "\n",
    "    knn.fit(X_train, y_train)\n",
    "\n",
    "    predictions = knn.predict(x_test)\n",
    "\n",
    "    correct = (y_test == predictions).sum()\n",
    "    incorrect = (y_test != predictions).sum()\n",
    "    total = len(predictions)\n",
    "\n",
    "#     print(\"Correct\", correct)\n",
    "#     print(\"Incorrect\", incorrect)\n",
    "#     print(\"Total\", total)\n",
    "#     print(\"Accuracy\", round(correct/total*100, 2))\n",
    "    return round(correct/total*100, 2)"
   ]
  },
  {
   "cell_type": "code",
   "execution_count": 174,
   "id": "71fc7e51",
   "metadata": {},
   "outputs": [],
   "source": [
    "import warnings\n",
    "warnings.filterwarnings('ignore')\n",
    "\n",
    "def all_models(x,y,y_):\n",
    "    # Data Preperation, shuffle data\n",
    "    y=df['target']\n",
    "    x = df.drop(['target'], axis=1)\n",
    "    X_train, x_test, y_train, y_test = train_test_split(x,y, test_size=0.3)\n",
    "    \n",
    "    return {\"nbc\":nbc_model(x,y,y_), 'nmc':nmc_model(x,y,y_),\\\n",
    "            'lr':lr_model(x,y,y_), 'rfc':rfc_model(x,y,y_), \\\n",
    "            'dtc':dtc_model(x,y,y_), 'lsvc':lsvc_model(x,y,y_),\\\n",
    "            'svc':svc_model(x,y,y_)}\n",
    "result = [ all_models(X_train, y_train,y_test) for i in range(20) ]"
   ]
  },
  {
   "cell_type": "code",
   "execution_count": 175,
   "id": "a7084b22",
   "metadata": {},
   "outputs": [
    {
     "data": {
      "text/plain": [
       "<matplotlib.legend.Legend at 0x7f863ebca160>"
      ]
     },
     "execution_count": 175,
     "metadata": {},
     "output_type": "execute_result"
    },
    {
     "data": {
      "image/png": "[encoded data removed]",
      "text/plain": [
       "<Figure size 432x288 with 1 Axes>"
      ]
     },
     "metadata": {
      "needs_background": "light"
     },
     "output_type": "display_data"
    }
   ],
   "source": [
    "# \n",
    "import matplotlib.pyplot as plt\n",
    "final = {\"nbc\":[], 'nmc':[], 'lr':[], 'rfc':[], 'dtc':[], 'lsvc':[], 'svc':[]}\n",
    "group  = [ [final[k].append(j[k]) for k in j ] for j in result ]\n",
    "df_check = pd.DataFrame(final)\n",
    "\n",
    "\n",
    "for model in final:\n",
    "    plt.plot(list(range(20)), df_check[model], label=model)\n",
    "plt.legend()\n"
   ]
  },
  {
   "cell_type": "code",
   "execution_count": 182,
   "id": "61994540",
   "metadata": {},
   "outputs": [
    {
     "data": {
      "text/plain": [
       "[{'nbc': '76.32 %'},\n",
       " {'nmc': '84.21 %'},\n",
       " {'lr': '84.87 %'},\n",
       " {'rfc': '100.0 %'},\n",
       " {'dtc': '100.0 %'},\n",
       " {'lsvc': '71.55 %'},\n",
       " {'svc': '65.79 %'}]"
      ]
     },
     "execution_count": 182,
     "metadata": {},
     "output_type": "execute_result"
    }
   ],
   "source": [
    "averages = [  { i: str(round( sum(final[i])/len(final[i]) , 2))+ \" %\"} for i in final]\n",
    "averages"
   ]
  },
  {
   "cell_type": "code",
   "execution_count": null,
   "id": "3e878785",
   "metadata": {},
   "outputs": [],
   "source": [
    "# lr Logicsts regression is good. there are cases show us 100%, but not trustble. "
   ]
  }
 ],
 "metadata": {
  "kernelspec": {
   "display_name": "Python 3",
   "language": "python",
   "name": "python3"
  },
  "language_info": {
   "codemirror_mode": {
    "name": "ipython",
    "version": 3
   },
   "file_extension": ".py",
   "mimetype": "text/x-python",
   "name": "python",
   "nbconvert_exporter": "python",
   "pygments_lexer": "ipython3",
   "version": "3.8.8"
  }
 },
 "nbformat": 4,
 "nbformat_minor": 5
}
